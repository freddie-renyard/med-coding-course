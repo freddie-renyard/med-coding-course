{
 "cells": [
  {
   "cell_type": "markdown",
   "id": "ccf10012",
   "metadata": {},
   "source": [
    "[TODO Insert Logo Here]"
   ]
  },
  {
   "cell_type": "markdown",
   "id": "465ef1c7",
   "metadata": {},
   "source": [
    "# Workshop 1: Working with Medical Excel Data with Python\n",
    "\n",
    "Welcome to the first workshop of the course! In this workshop we will be exploring how to work with medical Excel data using Python, to make the process of gaining insights into these data easier. Medical data is often collected in Excel spreadsheets for audit/QI, and code can make the process of analysing this data more streamlined and repeatable.\n",
    "\n",
    "## Learning Outcomes \n",
    "By the end of this session, you should be able to:\n",
    "- [TODO Update]\n",
    "\n",
    "*NB - A large learning point for this course is learning how to read documentation. Lots of documentation will be linked in this workshop: try to read it an extract the parts that are relevant to what you are trying to accomplish. Reading documentation is a valuable skill that will allow you to build more complex code using exsiting software.*\n",
    "\n",
    "###  A note on using Jupyter Notebooks and Google Colab...\n",
    "\n",
    "These notebooks are split into cells which should be run individually. A number will appear next to each cell (`[1],[2]`, etc.) which indicates what order it was executed in. When a notebook starts in Google Colab, it is allocated cloud resources when it is being used, and deletes them when you stop interacting with the notebook. This means that the notebook will time out and remove your progress if you stop working on it, and you will have to execute the cells again to get to the same point in the workshop. [This webpage](https://colab.research.google.com/notebooks/basic_features_overview.ipynb) has lots of good information about the features of Colabatory notebooks and how to use them."
   ]
  },
  {
   "cell_type": "markdown",
   "id": "d800598a",
   "metadata": {},
   "source": [
    "## Section 1: Installing dependencies and opening Excel files\n",
    "\n",
    "If you were to do this analysis on your computer, you'd need to make sure that the appropriate packages are installed. For this workshop, we will be using `pandas`, a Python library designed to make working with tabular data (Excel, CSV, etc.) easier. Helpfully, the Google Colab workspace already has this package installed, so we don't have to worry about it in this environment. If you want to work with this data locally, follow [these instructions](https://pandas.pydata.org/docs/getting_started/install.html) to install `pandas` locally or in a Python environment.\n",
    "\n",
    "We will also import another package, `pyplot`, which will allow us to create some useful graphs of the data for our audit later on in the workshop.\n",
    "\n",
    "*Run the cell below to import the relevant packages:*"
   ]
  },
  {
   "cell_type": "code",
   "execution_count": 67,
   "id": "7daef17c",
   "metadata": {},
   "outputs": [],
   "source": [
    "import pandas as pd\n",
    "from matplotlib import pyplot as plt"
   ]
  },
  {
   "cell_type": "markdown",
   "id": "8fd21c08",
   "metadata": {},
   "source": [
    "When people use `pandas`, they usually abbreviate it to `pd` when they import it. This style makes code clearer, and is also used in `pandas` official documentation. The same goes for importing `pyplot` as `plt`.\n",
    "\n",
    "To start processing the data, we need to open the data appropriately. The data we will be using for this tutorial will be simulated data which describe a list of imaging investigations that were conducted during a few months in a radiology department. The file is called `imaging_audit.xlsx`, and is included in the `notebooks/data` folder of the course.\n",
    "\n",
    "We will open the data into a `pandas` DataFrame object, which is equivalent to a sheet in Excel. "
   ]
  },
  {
   "cell_type": "markdown",
   "id": "f86020cb",
   "metadata": {},
   "source": [
    "### Exercise: Open the Excel file using `pandas`\n",
    "\n",
    "Import the `pandas` library, open the file into a variable called `audit_df`, and print the DataFrame. You can use [this documentation](https://pandas.pydata.org/docs/reference/api/pandas.read_excel.html) to help. Try not to look at the solution below."
   ]
  },
  {
   "cell_type": "code",
   "execution_count": null,
   "id": "a2a1117e",
   "metadata": {},
   "outputs": [],
   "source": []
  },
  {
   "cell_type": "markdown",
   "id": "d01bce0a",
   "metadata": {},
   "source": [
    "### Solution"
   ]
  },
  {
   "cell_type": "code",
   "execution_count": 68,
   "id": "47b15536",
   "metadata": {
    "tags": [
     "hide-input"
    ]
   },
   "outputs": [
    {
     "name": "stdout",
     "output_type": "stream",
     "text": [
      "    Patient ID  Age    Admission Date      Imaging Date Imaging Modality\n",
      "0            0   79  2023-07-10 20:52  2023-07-11 00:30              MRI\n",
      "1            1   10  2023-03-16 22:25  2023-03-16 22:47              mri\n",
      "2            2   48  2023-05-18 03:23  2023-05-18 08:19               mr\n",
      "3            3   11  2023-03-18 03:24  2023-03-18 06:38              MRI\n",
      "4            4   13  2023-06-25 21:55  2023-06-26 14:03              mri\n",
      "..         ...  ...               ...               ...              ...\n",
      "95          95   18  2023-05-20 21:09  2023-05-20 21:09               xr\n",
      "96          96   66  2023-05-05 03:36  2023-05-05 03:39               CT\n",
      "97          97    0  2023-07-28 03:05  2023-07-28 07:16               mr\n",
      "98          98   11  2023-06-27 04:37  2023-06-27 06:25              Mri\n",
      "99          99   10  2023-02-10 11:56  2023-02-10 12:12               xr\n",
      "\n",
      "[100 rows x 5 columns]\n"
     ]
    }
   ],
   "source": [
    "#@title\n",
    "audit_df = pd.read_excel(\"data/imaging_audit.xlsx\", index_col=0)\n",
    "print(audit_df)"
   ]
  },
  {
   "cell_type": "markdown",
   "id": "7e859424",
   "metadata": {},
   "source": [
    "We can see from this that the DataFrame has a few columns in it:\n",
    "1. ID for each patient\n",
    "2. Patient age\n",
    "3. When they were admitted\n",
    "4. When they had imaging in the department\n",
    "5. The modality of the imaging in question\n",
    "\n",
    "The descriptor `[100 rows x 5 columns]` helpfully tells us that there are 100 patients in the dataset."
   ]
  },
  {
   "cell_type": "markdown",
   "id": "04264426",
   "metadata": {},
   "source": [
    "## Section 2: Gaining some insight into these data\n",
    "\n",
    "We can use the `DataFrame.describe()` method to easily describe the data in the table:"
   ]
  },
  {
   "cell_type": "code",
   "execution_count": 69,
   "id": "67d3c482",
   "metadata": {},
   "outputs": [
    {
     "data": {
      "text/html": [
       "<div>\n",
       "<style scoped>\n",
       "    .dataframe tbody tr th:only-of-type {\n",
       "        vertical-align: middle;\n",
       "    }\n",
       "\n",
       "    .dataframe tbody tr th {\n",
       "        vertical-align: top;\n",
       "    }\n",
       "\n",
       "    .dataframe thead th {\n",
       "        text-align: right;\n",
       "    }\n",
       "</style>\n",
       "<table border=\"1\" class=\"dataframe\">\n",
       "  <thead>\n",
       "    <tr style=\"text-align: right;\">\n",
       "      <th></th>\n",
       "      <th>Patient ID</th>\n",
       "      <th>Age</th>\n",
       "    </tr>\n",
       "  </thead>\n",
       "  <tbody>\n",
       "    <tr>\n",
       "      <th>count</th>\n",
       "      <td>100.000000</td>\n",
       "      <td>100.000000</td>\n",
       "    </tr>\n",
       "    <tr>\n",
       "      <th>mean</th>\n",
       "      <td>49.500000</td>\n",
       "      <td>40.760000</td>\n",
       "    </tr>\n",
       "    <tr>\n",
       "      <th>std</th>\n",
       "      <td>29.011492</td>\n",
       "      <td>25.025288</td>\n",
       "    </tr>\n",
       "    <tr>\n",
       "      <th>min</th>\n",
       "      <td>0.000000</td>\n",
       "      <td>0.000000</td>\n",
       "    </tr>\n",
       "    <tr>\n",
       "      <th>25%</th>\n",
       "      <td>24.750000</td>\n",
       "      <td>18.000000</td>\n",
       "    </tr>\n",
       "    <tr>\n",
       "      <th>50%</th>\n",
       "      <td>49.500000</td>\n",
       "      <td>40.000000</td>\n",
       "    </tr>\n",
       "    <tr>\n",
       "      <th>75%</th>\n",
       "      <td>74.250000</td>\n",
       "      <td>64.000000</td>\n",
       "    </tr>\n",
       "    <tr>\n",
       "      <th>max</th>\n",
       "      <td>99.000000</td>\n",
       "      <td>84.000000</td>\n",
       "    </tr>\n",
       "  </tbody>\n",
       "</table>\n",
       "</div>"
      ],
      "text/plain": [
       "       Patient ID         Age\n",
       "count  100.000000  100.000000\n",
       "mean    49.500000   40.760000\n",
       "std     29.011492   25.025288\n",
       "min      0.000000    0.000000\n",
       "25%     24.750000   18.000000\n",
       "50%     49.500000   40.000000\n",
       "75%     74.250000   64.000000\n",
       "max     99.000000   84.000000"
      ]
     },
     "execution_count": 69,
     "metadata": {},
     "output_type": "execute_result"
    }
   ],
   "source": [
    "audit_df.describe()"
   ]
  },
  {
   "cell_type": "markdown",
   "id": "3d9b2dd7",
   "metadata": {},
   "source": [
    "This tells us more about the numerical data in the table, which is represented by two datatypes:\n",
    "1. Integers (`int`) - whole numbers (1,2,4, etc.)\n",
    "2. Floating point numbers (`float`) - any numbers with a decimal point (1.00, 3.14, etc.)\n",
    "\n",
    "The `describe()` method tells us the mean, median, and other useful bits about a couple of the columns. This information about the `Patient ID` column is fairly useless as the patients are labelled from 0 to 99, but the age data tells us a bit more about the patient population involved in our audit:\n",
    "1. They have a mean age of around 40 and a standard deviation of 24 years, indicating a diverse range of ages.\n",
    "2. They have a median age of 42.\n",
    "\n",
    "We've got some good initial insight into the patients in the table using 3 lines of code! However, mean and median values only tell us so much about the column - seeing a distribution of ages in a graph would tell us much more."
   ]
  },
  {
   "cell_type": "markdown",
   "id": "989497b4",
   "metadata": {},
   "source": [
    "### Exercise: Plotting a histogram\n",
    "\n",
    "Using the pyplot library, plot a histogram of the first column. Make sure you label the axes and give the plot a title. Hints:\n",
    "- The DataFrame columns can be accessed like a Python dictionary\n",
    "- Use the `plt.title()`, `plt.xlabel()` and `plt.ylabel()` functions"
   ]
  },
  {
   "cell_type": "markdown",
   "id": "128d09d9",
   "metadata": {},
   "source": [
    "### Solution"
   ]
  },
  {
   "cell_type": "code",
   "execution_count": 70,
   "id": "9032522d",
   "metadata": {},
   "outputs": [
    {
     "data": {
      "image/png": "[encoded data removed]",
      "text/plain": [
       "<Figure size 640x480 with 1 Axes>"
      ]
     },
     "metadata": {},
     "output_type": "display_data"
    }
   ],
   "source": [
    "# @title\n",
    "age_data = audit_df[\"Age\"]\n",
    "plt.hist(age_data, bins=30)\n",
    "plt.title(\"Age distribution of patients in imaging audit\")\n",
    "plt.xlabel(\"Patient Age\")\n",
    "plt.ylabel(\"Frequency\")\n",
    "plt.show()"
   ]
  },
  {
   "cell_type": "markdown",
   "id": "ec7ad934",
   "metadata": {},
   "source": [
    "This shows that the data is not normally distributed, and has two vague peaks - one at around age 25 and one at around age 60. \n",
    "\n",
    "*Before reading on, take a moment to stop and think about the potential clinical reasons for this.*\n",
    "\n",
    "One potential scenario is that this is an acute radiology department which does imaging for acute admissions. Most imaging is done for minor injuries in young people (e.g. X-rays for fractures) and for trauma imaging in older people (e.g. CT for potential head injuries, plain films for neck of femur fractures). \n",
    "\n",
    "The`plt.hist(data, bins=num_bins)` method is good for generating quick visualisations to get a good overview of the dataset. \n",
    "\n",
    "**Bonus task:** You can use the `DataFrame[\"<column_name>\"].plot()` method to generate quick visualisations of the data as well - test this to see how these plots compare to those above!"
   ]
  },
  {
   "cell_type": "markdown",
   "id": "8ed2fdb6",
   "metadata": {},
   "source": [
    "## Section 3: Working with dates\n",
    "\n",
    "So far, we've only looked at two columns of data - the patient ID and age. To look further into our data, we need to look at the dates for admission and imaging that are in the DataFrame. However, by default, the dates in the table are stored as strings:"
   ]
  },
  {
   "cell_type": "code",
   "execution_count": 71,
   "id": "eb384c87",
   "metadata": {},
   "outputs": [
    {
     "name": "stdout",
     "output_type": "stream",
     "text": [
      "<class 'str'>\n"
     ]
    }
   ],
   "source": [
    "sample = audit_df[\"Admission Date\"][0]\n",
    "print(type(sample))"
   ]
  },
  {
   "cell_type": "markdown",
   "id": "1a876a66",
   "metadata": {},
   "source": [
    "In order to meaningfully work with dates with `pandas`, we should convert the date columns to `pandas` dates using `pd.to_datetime()`:"
   ]
  },
  {
   "cell_type": "code",
   "execution_count": 72,
   "id": "82efd683",
   "metadata": {},
   "outputs": [],
   "source": [
    "audit_df[\"Admission Date\"] = pd.to_datetime(audit_df[\"Admission Date\"])\n",
    "audit_df[\"Imaging Date\"] = pd.to_datetime(audit_df[\"Imaging Date\"])"
   ]
  },
  {
   "cell_type": "markdown",
   "id": "9ce265ca",
   "metadata": {},
   "source": [
    "Running exactly the same code again, we can see that the datatype is now different:"
   ]
  },
  {
   "cell_type": "code",
   "execution_count": 73,
   "id": "fdddc7dc",
   "metadata": {
    "scrolled": true
   },
   "outputs": [
    {
     "name": "stdout",
     "output_type": "stream",
     "text": [
      "<class 'pandas._libs.tslibs.timestamps.Timestamp'>\n"
     ]
    }
   ],
   "source": [
    "sample = audit_df[\"Admission Date\"][0]\n",
    "print(type(sample))"
   ]
  },
  {
   "cell_type": "markdown",
   "id": "9fb29648",
   "metadata": {},
   "source": [
    "This will allow us to plot the dates and will allow us to treat them like numbers.\n",
    "\n",
    "**Tip:** This can be done when importing the file using `pd.read_excel(\"filename.xlsx\", parse_dates=True)`"
   ]
  },
  {
   "cell_type": "markdown",
   "id": "5b4c38ed",
   "metadata": {},
   "source": [
    "### Exercise: Helper functions\n",
    "\n",
    "Using the same approach as the previous example, create a simple function called `column_plotter` that takes a column of the table and plots it as a histogram. Make sure you include arguments for labelling the plot. Call the function to create histograms of the both patient admission and imaging dates."
   ]
  },
  {
   "cell_type": "code",
   "execution_count": null,
   "id": "4f74e9cb",
   "metadata": {},
   "outputs": [],
   "source": []
  },
  {
   "cell_type": "markdown",
   "id": "29cccd14",
   "metadata": {},
   "source": [
    "### Solution"
   ]
  },
  {
   "cell_type": "code",
   "execution_count": 74,
   "id": "1089205d",
   "metadata": {},
   "outputs": [
    {
     "data": {
      "image/png": "[encoded data removed]",
      "text/plain": [
       "<Figure size 640x480 with 1 Axes>"
      ]
     },
     "metadata": {},
     "output_type": "display_data"
    },
    {
     "data": {
      "image/png": "[encoded data removed]",
      "text/plain": [
       "<Figure size 640x480 with 1 Axes>"
      ]
     },
     "metadata": {},
     "output_type": "display_data"
    }
   ],
   "source": [
    "# @title\n",
    "def column_plotter(column, title=\"Title\", xlabel=\"This is the x-axis\", ylabel=\"This is the y-axis\"):\n",
    "    plt.hist(column, bins=30)\n",
    "    plt.title(title)\n",
    "    plt.xlabel(xlabel)\n",
    "    plt.ylabel(ylabel)\n",
    "    plt.show()\n",
    "    \n",
    "column_plotter(audit_df[\"Admission Date\"])\n",
    "column_plotter(audit_df[\"Imaging Date\"])"
   ]
  },
  {
   "cell_type": "markdown",
   "id": "afb0a471",
   "metadata": {},
   "source": [
    "We can add titles and labels into the function if we want to add more detail about each plot:"
   ]
  },
  {
   "cell_type": "code",
   "execution_count": 75,
   "id": "01db56c7",
   "metadata": {},
   "outputs": [
    {
     "data": {
      "image/png": "[encoded data removed]",
      "text/plain": [
       "<Figure size 640x480 with 1 Axes>"
      ]
     },
     "metadata": {},
     "output_type": "display_data"
    }
   ],
   "source": [
    "column_plotter(\n",
    "    audit_df[\"Imaging Date\"],\n",
    "    title=\"Imaging Dates for Audit\",\n",
    "    xlabel=\"Date\",\n",
    "    ylabel=\"Frequency\"\n",
    ")"
   ]
  },
  {
   "cell_type": "markdown",
   "id": "83b942e2",
   "metadata": {},
   "source": [
    "These plots don't show any clear trend as to when the imaging was likely to be performed. However, one measure that would be interesting for this audit is the delay to imaging after admission, which we'll look at now."
   ]
  },
  {
   "cell_type": "markdown",
   "id": "3ecf4c9e",
   "metadata": {},
   "source": [
    "### Exercise: Delays to imaging\n",
    "\n",
    "Using the function we just made, plot the distribution of the imaging delays in days with a histogram. **Hint:** the `.astype('timedelta64[h]')` method may help. What does the data show?"
   ]
  },
  {
   "cell_type": "code",
   "execution_count": null,
   "id": "b659eff4",
   "metadata": {},
   "outputs": [],
   "source": []
  },
  {
   "cell_type": "markdown",
   "id": "51cf27f3",
   "metadata": {},
   "source": [
    "### Solution"
   ]
  },
  {
   "cell_type": "code",
   "execution_count": 76,
   "id": "a5720464",
   "metadata": {},
   "outputs": [
    {
     "data": {
      "image/png": "[encoded data removed]",
      "text/plain": [
       "<Figure size 640x480 with 1 Axes>"
      ]
     },
     "metadata": {},
     "output_type": "display_data"
    }
   ],
   "source": [
    "#@title\n",
    "\n",
    "img_delays = (audit_df[\"Imaging Date\"] - audit_df[\"Admission Date\"]).astype('timedelta64[h]')\n",
    "column_plotter(img_delays, title='Imaging Delays', xlabel=\"Time to imaging (hours)\")"
   ]
  },
  {
   "cell_type": "markdown",
   "id": "f614c07b",
   "metadata": {},
   "source": [
    "We can see from this graph that most of the imaging happens within 5 hours of admission, with a few scans taking longer. The latest scan happens approximately 28 hours after admission. \n",
    "\n",
    "Now, the natural question is **which modality takes the longest to happen in an acute setting.** Before we can figure this out, we need to group the modalities together."
   ]
  },
  {
   "cell_type": "markdown",
   "id": "87fb30e2",
   "metadata": {},
   "source": [
    "## Section 4: Processing Modalities"
   ]
  },
  {
   "cell_type": "markdown",
   "id": "105c3400",
   "metadata": {},
   "source": [
    "First, we need to get an idea of what the data is in the \"Imaging Modality\" column. We can get a rough idea of this by printing the column:"
   ]
  },
  {
   "cell_type": "code",
   "execution_count": 77,
   "id": "9b100853",
   "metadata": {
    "scrolled": true
   },
   "outputs": [
    {
     "name": "stdout",
     "output_type": "stream",
     "text": [
      "0     MRI\n",
      "1     mri\n",
      "2      mr\n",
      "3     MRI\n",
      "4     mri\n",
      "     ... \n",
      "95     xr\n",
      "96     CT\n",
      "97     mr\n",
      "98    Mri\n",
      "99     xr\n",
      "Name: Imaging Modality, Length: 100, dtype: object\n"
     ]
    }
   ],
   "source": [
    "print(audit_df[\"Imaging Modality\"])"
   ]
  },
  {
   "cell_type": "markdown",
   "id": "9e454543",
   "metadata": {},
   "source": [
    "We can see from this that the data is strings, and that they look different (e.g. MRI is spelt \"mr\", \"MRI\", \"mri\"). This often happens with human generated data that is not designed to be read by a computer. To address this, we can first investigate how many unique names there are in the table."
   ]
  },
  {
   "cell_type": "markdown",
   "id": "078991ff",
   "metadata": {},
   "source": [
    "### Exercise: Delays to imaging\n",
    "\n",
    "Figure out how many unique values there are in the \"Imaging Modality\" column and what they are. Wrap it in a function so that we can use it again"
   ]
  },
  {
   "cell_type": "code",
   "execution_count": null,
   "id": "452a977f",
   "metadata": {},
   "outputs": [],
   "source": []
  },
  {
   "cell_type": "markdown",
   "id": "3234a9e1",
   "metadata": {},
   "source": [
    "### Solution"
   ]
  },
  {
   "cell_type": "code",
   "execution_count": 87,
   "id": "4d2adc37",
   "metadata": {},
   "outputs": [
    {
     "name": "stdout",
     "output_type": "stream",
     "text": [
      "['mri' 'mr' 'ct' 'xray' 'x-ray' 'xr']\n",
      "There are 6 unique values in the Imaging Modality column\n"
     ]
    }
   ],
   "source": [
    "#@title\n",
    "\n",
    "def unique_report(col_name=\"Imaging Modality\"):\n",
    "    \n",
    "    unique_strs = audit_df[col_name].unique()\n",
    "\n",
    "    print(unique_strs)\n",
    "    print(f\"There are {len(unique_strs)} unique values in the {col_name} column\")\n",
    "\n",
    "unique_report()"
   ]
  },
  {
   "cell_type": "markdown",
   "id": "ba625d07",
   "metadata": {},
   "source": [
    "Luckily, there aren't too many unique values in this dataset. In this case, we could manually replace the strings, but in a bigger dataset there may be many more unique terms. Therefore, we will use functions to remove duplicates and set all relevant values to a single string. This will allow us to group the scans together so we can analyse the data by modality."
   ]
  },
  {
   "cell_type": "markdown",
   "id": "11ea3a71",
   "metadata": {},
   "source": [
    "### Exercise: Delays to imaging\n",
    "\n",
    "Write a function that processes the imaging modality column and replaces each different modality string with the same string."
   ]
  },
  {
   "cell_type": "code",
   "execution_count": 85,
   "id": "caab3021",
   "metadata": {},
   "outputs": [
    {
     "name": "stdout",
     "output_type": "stream",
     "text": [
      "['mri' 'mr' 'ct' 'xray' 'x-ray' 'xr']\n",
      "There are 6 unique values in the Imaging Modality column\n"
     ]
    }
   ],
   "source": []
  },
  {
   "cell_type": "markdown",
   "id": "a1c8a56b",
   "metadata": {},
   "source": [
    "### Solution"
   ]
  },
  {
   "cell_type": "code",
   "execution_count": 88,
   "id": "6c2d215b",
   "metadata": {},
   "outputs": [
    {
     "name": "stdout",
     "output_type": "stream",
     "text": [
      "['mri' 'mr' 'ct' 'xray' 'x-ray' 'xr']\n",
      "There are 6 unique values in the Imaging Modality column\n"
     ]
    }
   ],
   "source": [
    "def cleanup_col(col):\n",
    "    \n",
    "    col = col.str.lower()\n",
    "    return col\n",
    "    \n",
    "audit_df[\"Imaging Modality\"] = cleanup_col(audit_df[\"Imaging Modality\"])\n",
    "\n",
    "unique_report()"
   ]
  },
  {
   "cell_type": "code",
   "execution_count": null,
   "id": "78688020",
   "metadata": {},
   "outputs": [],
   "source": []
  }
 ],
 "metadata": {
  "kernelspec": {
   "display_name": "Python 3 (ipykernel)",
   "language": "python",
   "name": "python3"
  },
  "language_info": {
   "codemirror_mode": {
    "name": "ipython",
    "version": 3
   },
   "file_extension": ".py",
   "mimetype": "text/x-python",
   "name": "python",
   "nbconvert_exporter": "python",
   "pygments_lexer": "ipython3",
   "version": "3.9.0"
  }
 },
 "nbformat": 4,
 "nbformat_minor": 5
}
